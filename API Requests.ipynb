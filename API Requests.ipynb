{
 "metadata": {
  "name": "",
  "signature": "sha256:199e01efe1618f41a76e75057d643d9c9d01933660833a6fe7d475856475717b"
 },
 "nbformat": 3,
 "nbformat_minor": 0,
 "worksheets": [
  {
   "cells": [
    {
     "cell_type": "code",
     "collapsed": false,
     "input": [
      "import requests\n",
      "import json\n",
      "\n",
      "API_url = \"http://localhost:5000/predict\"\n",
      "one_example = {\"example\": [192]}\n",
      "payload = json.dumps(one_example)\n",
      "print payload"
     ],
     "language": "python",
     "metadata": {},
     "outputs": [
      {
       "output_type": "stream",
       "stream": "stdout",
       "text": [
        "{\"example\": [192]}\n"
       ]
      }
     ],
     "prompt_number": 3
    },
    {
     "cell_type": "code",
     "collapsed": false,
     "input": [
      "headers = {'content-type': 'application/json'}\n",
      "\n",
      "response = requests.post(API_url, data=payload, headers=headers)\n",
      "\n",
      "print \"Response status codde is %i\" % response.status_code\n",
      "print \"The full response is:\"\n",
      "print response.text"
     ],
     "language": "python",
     "metadata": {},
     "outputs": [
      {
       "output_type": "stream",
       "stream": "stdout",
       "text": [
        "Response status codde is 200\n",
        "The full response is:\n",
        "{\n",
        "  \"predicted\": [\n",
        "    0.0\n",
        "  ]\n",
        "}\n"
       ]
      }
     ],
     "prompt_number": 8
    },
    {
     "cell_type": "code",
     "collapsed": false,
     "input": [
      "output = response.json()\n",
      "predicted_class = output[\"predicted\"][0]\n",
      "\n",
      "print \"The predicted class for x=%i is %i\" % (192, predicted_class)"
     ],
     "language": "python",
     "metadata": {},
     "outputs": [
      {
       "output_type": "stream",
       "stream": "stdout",
       "text": [
        "The predicted class for x=192 is 0\n"
       ]
      }
     ],
     "prompt_number": 10
    },
    {
     "cell_type": "code",
     "collapsed": false,
     "input": [
      "new_x = 8916\n",
      "payload = json.dumps({\"example\": [new_x]})\n",
      "response = requests.post(API_url, data=payload, headers=headers)\n",
      "predicted_class = response.json()[\"predicted\"][0]\n",
      "print \"The predicted class for x=%i is %i\" % (new_x, predicted_class)"
     ],
     "language": "python",
     "metadata": {},
     "outputs": [
      {
       "output_type": "stream",
       "stream": "stdout",
       "text": [
        "The predicted class for x=8916 is 1\n"
       ]
      }
     ],
     "prompt_number": 11
    }
   ],
   "metadata": {}
  }
 ]
}